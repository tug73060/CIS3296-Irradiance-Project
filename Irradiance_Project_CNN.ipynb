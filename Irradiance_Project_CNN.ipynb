{
 "cells": [
  {
   "cell_type": "code",
   "execution_count": 1,
   "metadata": {},
   "outputs": [
    {
     "name": "stderr",
     "output_type": "stream",
     "text": [
      "Using Theano backend.\n"
     ]
    }
   ],
   "source": [
    "## Keras configuration\n",
    "\n",
    "# Set KERAS backend to Theano\n",
    "import os\n",
    "os.environ['KERAS_BACKEND']='theano'\n",
    "\n",
    "# Load Keras\n",
    "import keras\n",
    "\n",
    "# Load the libraries\n",
    "import numpy as np\n",
    "\n",
    "from keras.datasets import mnist\n",
    "from keras.models import Sequential\n",
    "from keras.layers.core import Dense, Dropout, Activation, Flatten\n",
    "from keras.layers.convolutional import Conv2D\n",
    "from keras.layers.pooling import MaxPooling2D\n",
    "from keras.utils import np_utils\n",
    "from keras.optimizers import SGD"
   ]
  },
  {
   "cell_type": "code",
   "execution_count": 2,
   "metadata": {},
   "outputs": [],
   "source": [
    "import pandas as pd"
   ]
  },
  {
   "cell_type": "code",
   "execution_count": 3,
   "metadata": {
    "scrolled": false
   },
   "outputs": [],
   "source": [
    "# Load data for Node 150\n",
    "node150 = pd.read_csv('https://raw.githubusercontent.com/Amitangshu/Irradiance_sensing/master/All_Data_For_EPIC_Roof/MDA300n150.dat',\n",
    "                     header=1)"
   ]
  },
  {
   "cell_type": "code",
   "execution_count": 4,
   "metadata": {},
   "outputs": [],
   "source": [
    "# Load data for Node 151\n",
    "node151 = pd.read_csv('https://raw.githubusercontent.com/Amitangshu/Irradiance_sensing/master/All_Data_For_EPIC_Roof/MDA300n151.dat',\n",
    "                     header=1)"
   ]
  },
  {
   "cell_type": "code",
   "execution_count": 5,
   "metadata": {},
   "outputs": [],
   "source": [
    "# Load data for Node 152\n",
    "node152 = pd.read_csv('https://raw.githubusercontent.com/Amitangshu/Irradiance_sensing/master/All_Data_For_EPIC_Roof/MDA300n152.dat',\n",
    "                     header=1)"
   ]
  },
  {
   "cell_type": "code",
   "execution_count": 6,
   "metadata": {},
   "outputs": [],
   "source": [
    "# Load data for Node 153\n",
    "node153 = pd.read_csv('https://raw.githubusercontent.com/Amitangshu/Irradiance_sensing/master/All_Data_For_EPIC_Roof/MDA300n153.dat',\n",
    "                      header=1, skiprows=[47728])"
   ]
  },
  {
   "cell_type": "code",
   "execution_count": 7,
   "metadata": {
    "scrolled": false
   },
   "outputs": [],
   "source": [
    "# Split TimeStamp into Date and Time columns\n",
    "node150[['DATE','TIME']] = node150.TMSTAMP.str.split(expand=True)\n",
    "node151[['DATE','TIME']] = node151.TMSTAMP.str.split(expand=True)\n",
    "node152[['DATE','TIME']] = node152.TMSTAMP.str.split(expand=True)\n",
    "node153[['DATE','TIME']] = node153.TMSTAMP.str.split(expand=True)"
   ]
  },
  {
   "cell_type": "code",
   "execution_count": 8,
   "metadata": {},
   "outputs": [
    {
     "data": {
      "text/plain": [
       "Float64Index([   2.92,    5.83,    8.75,   11.67,   20.42,   14.58,    35.0,\n",
       "                 17.5,   55.41,   26.25,\n",
       "              ...\n",
       "              3094.41, 7151.27, 6602.96, 6675.88, 7256.26, 4742.24, 8026.22,\n",
       "              1388.26, 3505.64, 2397.37],\n",
       "             dtype='float64', length=2003)"
      ]
     },
     "execution_count": 8,
     "metadata": {},
     "output_type": "execute_result"
    }
   ],
   "source": [
    "# Explore data to see the distribution of irradiance values across 4 nodes\n",
    "count0 = node150.IRRADIANCE.value_counts()\n",
    "count0.index"
   ]
  },
  {
   "cell_type": "code",
   "execution_count": 9,
   "metadata": {},
   "outputs": [
    {
     "data": {
      "text/plain": [
       "Float64Index([   2.92,    8.75,    5.83,   20.42,   11.67,    17.5,   14.58,\n",
       "                 35.0,   23.33,   32.08,\n",
       "              ...\n",
       "              1157.85, 1300.76, 1154.94, 1137.44, 1233.68, 1152.02, 1172.43,\n",
       "              1181.18,  1166.6,  1201.6],\n",
       "             dtype='float64', length=408)"
      ]
     },
     "execution_count": 9,
     "metadata": {},
     "output_type": "execute_result"
    }
   ],
   "source": [
    "count1 = node151.IRRADIANCE.value_counts()\n",
    "count1.index"
   ]
  },
  {
   "cell_type": "code",
   "execution_count": 10,
   "metadata": {},
   "outputs": [
    {
     "data": {
      "text/plain": [
       "Float64Index([   3.07,    6.14,    9.21,   18.41,   15.34,   21.48,   12.27,\n",
       "                 58.3,   36.82,   27.62,\n",
       "              ...\n",
       "               837.68,  856.09,  834.61,  853.02,  908.25,  984.96, 1006.44,\n",
       "               862.23,  831.54,     0.0],\n",
       "             dtype='float64', length=292)"
      ]
     },
     "execution_count": 10,
     "metadata": {},
     "output_type": "execute_result"
    }
   ],
   "source": [
    "count2 = node152.IRRADIANCE.value_counts()\n",
    "count2.index"
   ]
  },
  {
   "cell_type": "code",
   "execution_count": 11,
   "metadata": {},
   "outputs": [
    {
     "data": {
      "text/plain": [
       "Float64Index([   2.81,    5.62,    8.44,   19.69,   11.25,   14.06,   16.87,\n",
       "                53.44,   25.31,    22.5,\n",
       "              ...\n",
       "              1319.01, 1327.44, 1366.82, 1333.07, 1330.25, 1392.13, 1316.19,\n",
       "              1349.94,  1386.5,  1364.0],\n",
       "             dtype='float64', length=485)"
      ]
     },
     "execution_count": 11,
     "metadata": {},
     "output_type": "execute_result"
    }
   ],
   "source": [
    "count3 = node153.IRRADIANCE.value_counts()\n",
    "count3.index"
   ]
  },
  {
   "cell_type": "code",
   "execution_count": 12,
   "metadata": {},
   "outputs": [],
   "source": [
    "# Select 4 class values\n",
    "class_values = [2.92, 8.75, 3.07, 2.81]"
   ]
  },
  {
   "cell_type": "code",
   "execution_count": 13,
   "metadata": {},
   "outputs": [],
   "source": [
    "# Subset data by the selected class values\n",
    "subset150 = node150[node150.IRRADIANCE.isin(class_values)]\n",
    "subset151 = node151[node151.IRRADIANCE.isin(class_values)]\n",
    "subset152 = node152[node152.IRRADIANCE.isin(class_values)]\n",
    "subset153 = node153[node153.IRRADIANCE.isin(class_values)]"
   ]
  },
  {
   "cell_type": "code",
   "execution_count": 64,
   "metadata": {},
   "outputs": [],
   "source": [
    "# Merge the subsets\n",
    "A_merge = pd.merge(subset150, subset151, how='outer')\n",
    "B_merge = pd.merge(subset152, subset153, how='outer')\n",
    "data = pd.merge(A_merge, B_merge, how='outer')"
   ]
  },
  {
   "cell_type": "code",
   "execution_count": 65,
   "metadata": {},
   "outputs": [
    {
     "data": {
      "text/html": [
       "<div>\n",
       "<style scoped>\n",
       "    .dataframe tbody tr th:only-of-type {\n",
       "        vertical-align: middle;\n",
       "    }\n",
       "\n",
       "    .dataframe tbody tr th {\n",
       "        vertical-align: top;\n",
       "    }\n",
       "\n",
       "    .dataframe thead th {\n",
       "        text-align: right;\n",
       "    }\n",
       "</style>\n",
       "<table border=\"1\" class=\"dataframe\">\n",
       "  <thead>\n",
       "    <tr style=\"text-align: right;\">\n",
       "      <th></th>\n",
       "      <th>TMSTAMP</th>\n",
       "      <th>RECNBR</th>\n",
       "      <th>PARENT</th>\n",
       "      <th>IRRADIANCE</th>\n",
       "      <th>SOLAROCV</th>\n",
       "      <th>VBATT</th>\n",
       "      <th>TEMP</th>\n",
       "      <th>DATE</th>\n",
       "      <th>TIME</th>\n",
       "    </tr>\n",
       "  </thead>\n",
       "  <tbody>\n",
       "    <tr>\n",
       "      <th>0</th>\n",
       "      <td>2012-09-14 19:17:40</td>\n",
       "      <td>16</td>\n",
       "      <td>0</td>\n",
       "      <td>8.75</td>\n",
       "      <td>0.93</td>\n",
       "      <td>3.06</td>\n",
       "      <td>80.75</td>\n",
       "      <td>2012-09-14</td>\n",
       "      <td>19:17:40</td>\n",
       "    </tr>\n",
       "    <tr>\n",
       "      <th>1</th>\n",
       "      <td>2012-09-14 19:18:38</td>\n",
       "      <td>17</td>\n",
       "      <td>0</td>\n",
       "      <td>8.75</td>\n",
       "      <td>0.93</td>\n",
       "      <td>3.06</td>\n",
       "      <td>80.59</td>\n",
       "      <td>2012-09-14</td>\n",
       "      <td>19:18:38</td>\n",
       "    </tr>\n",
       "    <tr>\n",
       "      <th>2</th>\n",
       "      <td>2012-09-14 19:19:38</td>\n",
       "      <td>18</td>\n",
       "      <td>0</td>\n",
       "      <td>8.75</td>\n",
       "      <td>0.87</td>\n",
       "      <td>3.06</td>\n",
       "      <td>80.43</td>\n",
       "      <td>2012-09-14</td>\n",
       "      <td>19:19:38</td>\n",
       "    </tr>\n",
       "    <tr>\n",
       "      <th>3</th>\n",
       "      <td>2012-09-14 19:20:37</td>\n",
       "      <td>19</td>\n",
       "      <td>0</td>\n",
       "      <td>8.75</td>\n",
       "      <td>0.88</td>\n",
       "      <td>3.06</td>\n",
       "      <td>80.22</td>\n",
       "      <td>2012-09-14</td>\n",
       "      <td>19:20:37</td>\n",
       "    </tr>\n",
       "    <tr>\n",
       "      <th>4</th>\n",
       "      <td>2012-09-14 19:21:34</td>\n",
       "      <td>20</td>\n",
       "      <td>0</td>\n",
       "      <td>8.75</td>\n",
       "      <td>0.93</td>\n",
       "      <td>3.06</td>\n",
       "      <td>80.04</td>\n",
       "      <td>2012-09-14</td>\n",
       "      <td>19:21:34</td>\n",
       "    </tr>\n",
       "  </tbody>\n",
       "</table>\n",
       "</div>"
      ],
      "text/plain": [
       "               TMSTAMP  RECNBR  PARENT  IRRADIANCE  SOLAROCV  VBATT   TEMP  \\\n",
       "0  2012-09-14 19:17:40      16       0        8.75      0.93   3.06  80.75   \n",
       "1  2012-09-14 19:18:38      17       0        8.75      0.93   3.06  80.59   \n",
       "2  2012-09-14 19:19:38      18       0        8.75      0.87   3.06  80.43   \n",
       "3  2012-09-14 19:20:37      19       0        8.75      0.88   3.06  80.22   \n",
       "4  2012-09-14 19:21:34      20       0        8.75      0.93   3.06  80.04   \n",
       "\n",
       "         DATE      TIME  \n",
       "0  2012-09-14  19:17:40  \n",
       "1  2012-09-14  19:18:38  \n",
       "2  2012-09-14  19:19:38  \n",
       "3  2012-09-14  19:20:37  \n",
       "4  2012-09-14  19:21:34  "
      ]
     },
     "execution_count": 65,
     "metadata": {},
     "output_type": "execute_result"
    }
   ],
   "source": [
    "data.head()"
   ]
  },
  {
   "cell_type": "code",
   "execution_count": 66,
   "metadata": {
    "scrolled": false
   },
   "outputs": [],
   "source": [
    "# Transform Time column into numeric (hours)\n",
    "data.TIME = pd.to_timedelta(data.TIME)\n",
    "data.TIME = data.TIME.dt.seconds/3600"
   ]
  },
  {
   "cell_type": "code",
   "execution_count": 67,
   "metadata": {},
   "outputs": [],
   "source": [
    "# Creating labels:\n",
    "\n",
    "# Convert the labels into categorical classification\n",
    "# Class values: {2.92, 8.75, 3.07, 2.81} correspond to {0, 1, 2, 3}\n",
    "data.loc[data.IRRADIANCE==2.92, 'IRRADIANCE'] = 0\n",
    "data.loc[data.IRRADIANCE==8.75, 'IRRADIANCE'] = 1\n",
    "data.loc[data.IRRADIANCE==3.07, 'IRRADIANCE'] = 2\n",
    "data.loc[data.IRRADIANCE==2.81, 'IRRADIANCE'] = 3"
   ]
  },
  {
   "cell_type": "code",
   "execution_count": 68,
   "metadata": {},
   "outputs": [
    {
     "data": {
      "text/html": [
       "<div>\n",
       "<style scoped>\n",
       "    .dataframe tbody tr th:only-of-type {\n",
       "        vertical-align: middle;\n",
       "    }\n",
       "\n",
       "    .dataframe tbody tr th {\n",
       "        vertical-align: top;\n",
       "    }\n",
       "\n",
       "    .dataframe thead th {\n",
       "        text-align: right;\n",
       "    }\n",
       "</style>\n",
       "<table border=\"1\" class=\"dataframe\">\n",
       "  <thead>\n",
       "    <tr style=\"text-align: right;\">\n",
       "      <th></th>\n",
       "      <th>TMSTAMP</th>\n",
       "      <th>RECNBR</th>\n",
       "      <th>PARENT</th>\n",
       "      <th>IRRADIANCE</th>\n",
       "      <th>SOLAROCV</th>\n",
       "      <th>VBATT</th>\n",
       "      <th>TEMP</th>\n",
       "      <th>DATE</th>\n",
       "      <th>TIME</th>\n",
       "    </tr>\n",
       "  </thead>\n",
       "  <tbody>\n",
       "    <tr>\n",
       "      <th>0</th>\n",
       "      <td>2012-09-14 19:17:40</td>\n",
       "      <td>16</td>\n",
       "      <td>0</td>\n",
       "      <td>1.0</td>\n",
       "      <td>0.93</td>\n",
       "      <td>3.06</td>\n",
       "      <td>80.75</td>\n",
       "      <td>2012-09-14</td>\n",
       "      <td>19.294444</td>\n",
       "    </tr>\n",
       "    <tr>\n",
       "      <th>1</th>\n",
       "      <td>2012-09-14 19:18:38</td>\n",
       "      <td>17</td>\n",
       "      <td>0</td>\n",
       "      <td>1.0</td>\n",
       "      <td>0.93</td>\n",
       "      <td>3.06</td>\n",
       "      <td>80.59</td>\n",
       "      <td>2012-09-14</td>\n",
       "      <td>19.310556</td>\n",
       "    </tr>\n",
       "    <tr>\n",
       "      <th>2</th>\n",
       "      <td>2012-09-14 19:19:38</td>\n",
       "      <td>18</td>\n",
       "      <td>0</td>\n",
       "      <td>1.0</td>\n",
       "      <td>0.87</td>\n",
       "      <td>3.06</td>\n",
       "      <td>80.43</td>\n",
       "      <td>2012-09-14</td>\n",
       "      <td>19.327222</td>\n",
       "    </tr>\n",
       "    <tr>\n",
       "      <th>3</th>\n",
       "      <td>2012-09-14 19:20:37</td>\n",
       "      <td>19</td>\n",
       "      <td>0</td>\n",
       "      <td>1.0</td>\n",
       "      <td>0.88</td>\n",
       "      <td>3.06</td>\n",
       "      <td>80.22</td>\n",
       "      <td>2012-09-14</td>\n",
       "      <td>19.343611</td>\n",
       "    </tr>\n",
       "    <tr>\n",
       "      <th>4</th>\n",
       "      <td>2012-09-14 19:21:34</td>\n",
       "      <td>20</td>\n",
       "      <td>0</td>\n",
       "      <td>1.0</td>\n",
       "      <td>0.93</td>\n",
       "      <td>3.06</td>\n",
       "      <td>80.04</td>\n",
       "      <td>2012-09-14</td>\n",
       "      <td>19.359444</td>\n",
       "    </tr>\n",
       "  </tbody>\n",
       "</table>\n",
       "</div>"
      ],
      "text/plain": [
       "               TMSTAMP  RECNBR  PARENT  IRRADIANCE  SOLAROCV  VBATT   TEMP  \\\n",
       "0  2012-09-14 19:17:40      16       0         1.0      0.93   3.06  80.75   \n",
       "1  2012-09-14 19:18:38      17       0         1.0      0.93   3.06  80.59   \n",
       "2  2012-09-14 19:19:38      18       0         1.0      0.87   3.06  80.43   \n",
       "3  2012-09-14 19:20:37      19       0         1.0      0.88   3.06  80.22   \n",
       "4  2012-09-14 19:21:34      20       0         1.0      0.93   3.06  80.04   \n",
       "\n",
       "         DATE       TIME  \n",
       "0  2012-09-14  19.294444  \n",
       "1  2012-09-14  19.310556  \n",
       "2  2012-09-14  19.327222  \n",
       "3  2012-09-14  19.343611  \n",
       "4  2012-09-14  19.359444  "
      ]
     },
     "execution_count": 68,
     "metadata": {},
     "output_type": "execute_result"
    }
   ],
   "source": [
    "data.head()"
   ]
  },
  {
   "cell_type": "code",
   "execution_count": 69,
   "metadata": {},
   "outputs": [],
   "source": [
    "# Split data into three parts: training(40%), testing(30%), validation(30%)\n",
    "# Use scikit-learn\n",
    "\n",
    "import sklearn\n",
    "from sklearn.model_selection import train_test_split\n",
    "\n",
    "Train_Set, Test_Set = train_test_split(data, train_size=0.4, test_size=0.3, shuffle=True)"
   ]
  },
  {
   "cell_type": "code",
   "execution_count": 75,
   "metadata": {},
   "outputs": [],
   "source": [
    "# Extract the feature columns: SOLAROCV, TEMP, TIME\n",
    "\n",
    "X_train = np.array(Train_Set[['SOLAROCV','TEMP','TIME']]).astype('float64')\n",
    "X_test = np.array(Test_Set[['SOLAROCV','TEMP','TIME']]).astype('float64')\n",
    "\n",
    "# Input Shape\n",
    "shape_ord = (X_train[0].shape)"
   ]
  },
  {
   "cell_type": "code",
   "execution_count": 71,
   "metadata": {},
   "outputs": [],
   "source": [
    "# Extract the label column: IRRADIANCE\n",
    "\n",
    "# Cast the label as integer\n",
    "Y_train = np.array(Train_Set[['IRRADIANCE']]).astype('int')\n",
    "Y_test = np.array(Test_Set[['IRRADIANCE']]).astype('int')\n",
    "\n",
    "from keras.utils import to_categorical\n",
    "# Convert the labels into categorical form\n",
    "Y_train = to_categorical(Y_train, num_classes=4)\n",
    "Y_test = to_categorical(Y_test, num_classes=4)"
   ]
  },
  {
   "cell_type": "code",
   "execution_count": 77,
   "metadata": {},
   "outputs": [
    {
     "data": {
      "text/plain": [
       "(3,)"
      ]
     },
     "execution_count": 77,
     "metadata": {},
     "output_type": "execute_result"
    }
   ],
   "source": [
    "shape_ord"
   ]
  },
  {
   "cell_type": "markdown",
   "metadata": {},
   "source": [
    "### Training Model 1 - CNN\n",
    "\n",
    "**1.** Initialize the parameters"
   ]
  },
  {
   "cell_type": "code",
   "execution_count": 80,
   "metadata": {},
   "outputs": [],
   "source": [
    "# Initialize the parameters\n",
    "# Number of epochs\n",
    "nb_epochs = 10\n",
    "# Batch size\n",
    "batch_size = 128\n",
    "# Vanilla SGD\n",
    "sgd = SGD(lr=0.1, decay=1e-6, momentum=0.9, nesterov=True)"
   ]
  },
  {
   "cell_type": "markdown",
   "metadata": {},
   "source": [
    "**2.** Compile the model"
   ]
  },
  {
   "cell_type": "code",
   "execution_count": 97,
   "metadata": {},
   "outputs": [],
   "source": [
    "model = Sequential()\n",
    "\n",
    "model.add(Dense(64, activation='relu', input_dim=3))\n",
    "model.add(Dropout(0.5))\n",
    "model.add(Dense(64, activation='relu'))\n",
    "model.add(Dropout(0.5))\n",
    "model.add(Dense(4, activation='softmax'))\n",
    "\n",
    "model.compile(loss='categorical_crossentropy',\n",
    "              optimizer=sgd,\n",
    "              metrics=['accuracy'])"
   ]
  },
  {
   "cell_type": "markdown",
   "metadata": {},
   "source": [
    "**3.** Fit the model"
   ]
  },
  {
   "cell_type": "code",
   "execution_count": 98,
   "metadata": {},
   "outputs": [
    {
     "name": "stdout",
     "output_type": "stream",
     "text": [
      "Model: \"sequential_7\"\n",
      "_________________________________________________________________\n",
      "Layer (type)                 Output Shape              Param #   \n",
      "=================================================================\n",
      "dense_13 (Dense)             (None, 64)                256       \n",
      "_________________________________________________________________\n",
      "dropout_11 (Dropout)         (None, 64)                0         \n",
      "_________________________________________________________________\n",
      "dense_14 (Dense)             (None, 64)                4160      \n",
      "_________________________________________________________________\n",
      "dropout_12 (Dropout)         (None, 64)                0         \n",
      "_________________________________________________________________\n",
      "dense_15 (Dense)             (None, 4)                 260       \n",
      "=================================================================\n",
      "Total params: 4,676\n",
      "Trainable params: 4,676\n",
      "Non-trainable params: 0\n",
      "_________________________________________________________________\n"
     ]
    }
   ],
   "source": [
    "model.summary()"
   ]
  },
  {
   "cell_type": "code",
   "execution_count": 99,
   "metadata": {},
   "outputs": [
    {
     "name": "stdout",
     "output_type": "stream",
     "text": [
      "Train on 47917 samples, validate on 35938 samples\n",
      "Epoch 1/10\n",
      "47917/47917 [==============================] - 1s 20us/step - loss: 7.6099 - accuracy: 0.5271 - val_loss: 7.1011 - val_accuracy: 0.5594\n",
      "Epoch 2/10\n",
      "47917/47917 [==============================] - 1s 17us/step - loss: 7.5073 - accuracy: 0.5338 - val_loss: 7.1011 - val_accuracy: 0.5594\n",
      "Epoch 3/10\n",
      "47917/47917 [==============================] - 1s 22us/step - loss: 7.1536 - accuracy: 0.5553 - val_loss: 7.1011 - val_accuracy: 0.5594\n",
      "Epoch 4/10\n",
      "47917/47917 [==============================] - 1s 20us/step - loss: 7.1371 - accuracy: 0.5567 - val_loss: 7.1011 - val_accuracy: 0.5594\n",
      "Epoch 5/10\n",
      "47917/47917 [==============================] - 1s 20us/step - loss: 7.1094 - accuracy: 0.5584 - val_loss: 7.1011 - val_accuracy: 0.5594\n",
      "Epoch 6/10\n",
      "47917/47917 [==============================] - 1s 21us/step - loss: 7.1162 - accuracy: 0.5577 - val_loss: 7.1011 - val_accuracy: 0.5594\n",
      "Epoch 7/10\n",
      "47917/47917 [==============================] - 1s 23us/step - loss: 7.1394 - accuracy: 0.5561 - val_loss: 7.1011 - val_accuracy: 0.5594\n",
      "Epoch 8/10\n",
      "47917/47917 [==============================] - 1s 24us/step - loss: 7.1262 - accuracy: 0.5572 - val_loss: 7.1011 - val_accuracy: 0.5594\n",
      "Epoch 9/10\n",
      "47917/47917 [==============================] - 1s 25us/step - loss: 7.0870 - accuracy: 0.5593 - val_loss: 7.1011 - val_accuracy: 0.5594\n",
      "Epoch 10/10\n",
      "47917/47917 [==============================] - 1s 25us/step - loss: 7.0829 - accuracy: 0.5589 - val_loss: 7.1011 - val_accuracy: 0.5594\n"
     ]
    }
   ],
   "source": [
    "hist = model.fit(X_train, Y_train, batch_size=batch_size, \n",
    "                 epochs=nb_epochs, verbose=1, \n",
    "                 validation_data=(X_test, Y_test))"
   ]
  },
  {
   "cell_type": "markdown",
   "metadata": {},
   "source": [
    "**4.** Visualize the results"
   ]
  },
  {
   "cell_type": "code",
   "execution_count": 100,
   "metadata": {},
   "outputs": [
    {
     "data": {
      "text/plain": [
       "<matplotlib.legend.Legend at 0x1c2e57fcf8>"
      ]
     },
     "execution_count": 100,
     "metadata": {},
     "output_type": "execute_result"
    },
    {
     "data": {
      "image/png": "[encoded data removed]",
      "text/plain": [
       "<Figure size 432x288 with 1 Axes>"
      ]
     },
     "metadata": {
      "needs_background": "light"
     },
     "output_type": "display_data"
    },
    {
     "data": {
      "image/png": "[encoded data removed]",
      "text/plain": [
       "<Figure size 432x288 with 1 Axes>"
      ]
     },
     "metadata": {
      "needs_background": "light"
     },
     "output_type": "display_data"
    }
   ],
   "source": [
    "import matplotlib.pyplot as plt\n",
    "%matplotlib inline\n",
    "\n",
    "plt.figure()\n",
    "plt.xlabel('Epochs')\n",
    "plt.ylabel('Loss')\n",
    "plt.plot(hist.history['loss'])\n",
    "plt.plot(hist.history['val_loss'])\n",
    "plt.legend(['Training', 'Validation'])\n",
    "\n",
    "plt.figure()\n",
    "plt.xlabel('Epochs')\n",
    "plt.ylabel('Accuracy')\n",
    "plt.plot(hist.history['accuracy'])\n",
    "plt.plot(hist.history['val_accuracy'])\n",
    "plt.legend(['Training', 'Validation'], loc='lower right')"
   ]
  },
  {
   "cell_type": "markdown",
   "metadata": {},
   "source": [
    "**5.** Evaluate the accuracy of the model"
   ]
  },
  {
   "cell_type": "code",
   "execution_count": 101,
   "metadata": {},
   "outputs": [
    {
     "name": "stdout",
     "output_type": "stream",
     "text": [
      "Test Loss: 7.101057627502404\n",
      "Test Accuracy: 0.5594356656074524\n"
     ]
    }
   ],
   "source": [
    "# Evaluating the model on the test data    \n",
    "loss, accuracy = model.evaluate(X_test, Y_test, verbose=0)\n",
    "print('Test Loss:', loss)\n",
    "print('Test Accuracy:', accuracy)"
   ]
  }
 ],
 "metadata": {
  "kernelspec": {
   "display_name": "Python 3",
   "language": "python",
   "name": "python3"
  },
  "language_info": {
   "codemirror_mode": {
    "name": "ipython",
    "version": 3
   },
   "file_extension": ".py",
   "mimetype": "text/x-python",
   "name": "python",
   "nbconvert_exporter": "python",
   "pygments_lexer": "ipython3",
   "version": "3.7.3"
  }
 },
 "nbformat": 4,
 "nbformat_minor": 2
}
