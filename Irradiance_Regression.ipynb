{
 "cells": [
  {
   "cell_type": "code",
   "execution_count": 1,
   "metadata": {},
   "outputs": [
    {
     "name": "stderr",
     "output_type": "stream",
     "text": [
      "Using Theano backend.\n"
     ]
    }
   ],
   "source": [
    "## Keras configuration\n",
    "\n",
    "# Set KERAS backend to Theano\n",
    "import os\n",
    "os.environ['KERAS_BACKEND']='theano'\n",
    "\n",
    "# Load Keras\n",
    "import keras\n",
    "\n",
    "# Load the libraries\n",
    "import numpy as np\n",
    "from keras.models import Sequential\n",
    "from keras.layers.core import Dense, Dropout, Activation\n",
    "from keras.layers.convolutional import Conv2D\n",
    "from keras.layers.pooling import MaxPooling2D\n",
    "from keras.utils import np_utils\n",
    "from keras.optimizers import SGD"
   ]
  },
  {
   "cell_type": "code",
   "execution_count": 2,
   "metadata": {},
   "outputs": [],
   "source": [
    "import pandas as pd\n",
    "from functools import reduce"
   ]
  },
  {
   "cell_type": "code",
   "execution_count": 3,
   "metadata": {},
   "outputs": [
    {
     "name": "stdout",
     "output_type": "stream",
     "text": [
      "Loaded file MDA300n150.dat\n",
      "Loaded file MDA300n151.dat\n",
      "Loaded file MDA300n152.dat\n"
     ]
    }
   ],
   "source": [
    "# Load Data into array\n",
    "\n",
    "nodes = []\n",
    "for x in range(0, 3):\n",
    "    nodes.append(pd.read_csv('https://raw.githubusercontent.com/Amitangshu/Irradiance_sensing/master/All_Data_For_EPIC_Roof/MDA300n' + str(x+150) +'.dat',\n",
    "                     error_bad_lines=False, header=1))\n",
    "    print(\"Loaded file MDA300n\"+str(x+150)+\".dat\")"
   ]
  },
  {
   "cell_type": "code",
   "execution_count": 4,
   "metadata": {},
   "outputs": [],
   "source": [
    "# Split TimeStamp into Date and Time columns and \n",
    "\n",
    "numNodes = len(nodes)\n",
    "for y in range(numNodes):\n",
    "    nodes[y][['DATE','TIME']] = nodes[y].TMSTAMP.str.split(expand=True)\n",
    "    nodes[y].TIME = nodes[y].TIME.str[0:5] + ':00'"
   ]
  },
  {
   "cell_type": "code",
   "execution_count": 5,
   "metadata": {},
   "outputs": [],
   "source": [
    "for w in range(numNodes):\n",
    "    nodes[w] = nodes[w].drop('TMSTAMP', 1)\n",
    "    nodes[w] = nodes[w].drop('RECNBR', 1)\n",
    "    nodes[w] = nodes[w].drop('PARENT', 1)\n",
    "    nodes[w] = nodes[w].drop('SOLAROCV', 1)\n",
    "    nodes[w] = nodes[w].drop('VBATT', 1)\n",
    "    nodes[w] = nodes[w].drop('TEMP', 1)\n",
    "    nodes[w] = nodes[w].drop('DATE', 1)"
   ]
  },
  {
   "cell_type": "code",
   "execution_count": 6,
   "metadata": {},
   "outputs": [],
   "source": [
    "dataR = reduce(lambda  left,right: pd.merge(left,right,on=['IRRADIANCE','TIME'],how='outer'), nodes)"
   ]
  },
  {
   "cell_type": "code",
   "execution_count": 7,
   "metadata": {},
   "outputs": [],
   "source": [
    "dataR = dataR.groupby('TIME').mean().reset_index()"
   ]
  },
  {
   "cell_type": "code",
   "execution_count": 8,
   "metadata": {
    "scrolled": true
   },
   "outputs": [
    {
     "data": {
      "text/html": [
       "<div>\n",
       "<style scoped>\n",
       "    .dataframe tbody tr th:only-of-type {\n",
       "        vertical-align: middle;\n",
       "    }\n",
       "\n",
       "    .dataframe tbody tr th {\n",
       "        vertical-align: top;\n",
       "    }\n",
       "\n",
       "    .dataframe thead th {\n",
       "        text-align: right;\n",
       "    }\n",
       "</style>\n",
       "<table border=\"1\" class=\"dataframe\">\n",
       "  <thead>\n",
       "    <tr style=\"text-align: right;\">\n",
       "      <th></th>\n",
       "      <th>TIME</th>\n",
       "      <th>IRRADIANCE</th>\n",
       "    </tr>\n",
       "  </thead>\n",
       "  <tbody>\n",
       "    <tr>\n",
       "      <th>0</th>\n",
       "      <td>00:00:00</td>\n",
       "      <td>13.134230</td>\n",
       "    </tr>\n",
       "    <tr>\n",
       "      <th>1</th>\n",
       "      <td>00:01:00</td>\n",
       "      <td>15.638665</td>\n",
       "    </tr>\n",
       "    <tr>\n",
       "      <th>2</th>\n",
       "      <td>00:02:00</td>\n",
       "      <td>28.817829</td>\n",
       "    </tr>\n",
       "    <tr>\n",
       "      <th>3</th>\n",
       "      <td>00:03:00</td>\n",
       "      <td>12.005140</td>\n",
       "    </tr>\n",
       "    <tr>\n",
       "      <th>4</th>\n",
       "      <td>00:04:00</td>\n",
       "      <td>21.816436</td>\n",
       "    </tr>\n",
       "    <tr>\n",
       "      <th>5</th>\n",
       "      <td>00:05:00</td>\n",
       "      <td>19.551621</td>\n",
       "    </tr>\n",
       "    <tr>\n",
       "      <th>6</th>\n",
       "      <td>00:06:00</td>\n",
       "      <td>13.848006</td>\n",
       "    </tr>\n",
       "    <tr>\n",
       "      <th>7</th>\n",
       "      <td>00:07:00</td>\n",
       "      <td>21.530526</td>\n",
       "    </tr>\n",
       "    <tr>\n",
       "      <th>8</th>\n",
       "      <td>00:08:00</td>\n",
       "      <td>10.180501</td>\n",
       "    </tr>\n",
       "    <tr>\n",
       "      <th>9</th>\n",
       "      <td>00:09:00</td>\n",
       "      <td>20.976130</td>\n",
       "    </tr>\n",
       "    <tr>\n",
       "      <th>10</th>\n",
       "      <td>00:10:00</td>\n",
       "      <td>19.680225</td>\n",
       "    </tr>\n",
       "    <tr>\n",
       "      <th>11</th>\n",
       "      <td>00:11:00</td>\n",
       "      <td>15.083427</td>\n",
       "    </tr>\n",
       "    <tr>\n",
       "      <th>12</th>\n",
       "      <td>00:12:00</td>\n",
       "      <td>19.744993</td>\n",
       "    </tr>\n",
       "    <tr>\n",
       "      <th>13</th>\n",
       "      <td>00:13:00</td>\n",
       "      <td>10.338079</td>\n",
       "    </tr>\n",
       "    <tr>\n",
       "      <th>14</th>\n",
       "      <td>00:14:00</td>\n",
       "      <td>17.733902</td>\n",
       "    </tr>\n",
       "    <tr>\n",
       "      <th>15</th>\n",
       "      <td>00:15:00</td>\n",
       "      <td>17.698786</td>\n",
       "    </tr>\n",
       "    <tr>\n",
       "      <th>16</th>\n",
       "      <td>00:16:00</td>\n",
       "      <td>17.520994</td>\n",
       "    </tr>\n",
       "    <tr>\n",
       "      <th>17</th>\n",
       "      <td>00:17:00</td>\n",
       "      <td>19.154406</td>\n",
       "    </tr>\n",
       "    <tr>\n",
       "      <th>18</th>\n",
       "      <td>00:18:00</td>\n",
       "      <td>13.191387</td>\n",
       "    </tr>\n",
       "    <tr>\n",
       "      <th>19</th>\n",
       "      <td>00:19:00</td>\n",
       "      <td>11.306306</td>\n",
       "    </tr>\n",
       "    <tr>\n",
       "      <th>20</th>\n",
       "      <td>00:20:00</td>\n",
       "      <td>17.396792</td>\n",
       "    </tr>\n",
       "    <tr>\n",
       "      <th>21</th>\n",
       "      <td>00:21:00</td>\n",
       "      <td>19.960554</td>\n",
       "    </tr>\n",
       "    <tr>\n",
       "      <th>22</th>\n",
       "      <td>00:22:00</td>\n",
       "      <td>18.213425</td>\n",
       "    </tr>\n",
       "    <tr>\n",
       "      <th>23</th>\n",
       "      <td>00:23:00</td>\n",
       "      <td>13.267455</td>\n",
       "    </tr>\n",
       "    <tr>\n",
       "      <th>24</th>\n",
       "      <td>00:24:00</td>\n",
       "      <td>9.564027</td>\n",
       "    </tr>\n",
       "    <tr>\n",
       "      <th>25</th>\n",
       "      <td>00:25:00</td>\n",
       "      <td>16.166350</td>\n",
       "    </tr>\n",
       "    <tr>\n",
       "      <th>26</th>\n",
       "      <td>00:26:00</td>\n",
       "      <td>19.273408</td>\n",
       "    </tr>\n",
       "    <tr>\n",
       "      <th>27</th>\n",
       "      <td>00:27:00</td>\n",
       "      <td>14.440011</td>\n",
       "    </tr>\n",
       "    <tr>\n",
       "      <th>28</th>\n",
       "      <td>00:28:00</td>\n",
       "      <td>13.823047</td>\n",
       "    </tr>\n",
       "    <tr>\n",
       "      <th>29</th>\n",
       "      <td>00:29:00</td>\n",
       "      <td>11.919708</td>\n",
       "    </tr>\n",
       "    <tr>\n",
       "      <th>...</th>\n",
       "      <td>...</td>\n",
       "      <td>...</td>\n",
       "    </tr>\n",
       "    <tr>\n",
       "      <th>1410</th>\n",
       "      <td>23:30:00</td>\n",
       "      <td>16.390142</td>\n",
       "    </tr>\n",
       "    <tr>\n",
       "      <th>1411</th>\n",
       "      <td>23:31:00</td>\n",
       "      <td>18.741641</td>\n",
       "    </tr>\n",
       "    <tr>\n",
       "      <th>1412</th>\n",
       "      <td>23:32:00</td>\n",
       "      <td>17.677813</td>\n",
       "    </tr>\n",
       "    <tr>\n",
       "      <th>1413</th>\n",
       "      <td>23:33:00</td>\n",
       "      <td>18.715644</td>\n",
       "    </tr>\n",
       "    <tr>\n",
       "      <th>1414</th>\n",
       "      <td>23:34:00</td>\n",
       "      <td>13.586723</td>\n",
       "    </tr>\n",
       "    <tr>\n",
       "      <th>1415</th>\n",
       "      <td>23:35:00</td>\n",
       "      <td>16.302053</td>\n",
       "    </tr>\n",
       "    <tr>\n",
       "      <th>1416</th>\n",
       "      <td>23:36:00</td>\n",
       "      <td>15.886820</td>\n",
       "    </tr>\n",
       "    <tr>\n",
       "      <th>1417</th>\n",
       "      <td>23:37:00</td>\n",
       "      <td>19.598547</td>\n",
       "    </tr>\n",
       "    <tr>\n",
       "      <th>1418</th>\n",
       "      <td>23:38:00</td>\n",
       "      <td>22.131638</td>\n",
       "    </tr>\n",
       "    <tr>\n",
       "      <th>1419</th>\n",
       "      <td>23:39:00</td>\n",
       "      <td>19.547223</td>\n",
       "    </tr>\n",
       "    <tr>\n",
       "      <th>1420</th>\n",
       "      <td>23:40:00</td>\n",
       "      <td>9.515728</td>\n",
       "    </tr>\n",
       "    <tr>\n",
       "      <th>1421</th>\n",
       "      <td>23:41:00</td>\n",
       "      <td>19.368385</td>\n",
       "    </tr>\n",
       "    <tr>\n",
       "      <th>1422</th>\n",
       "      <td>23:42:00</td>\n",
       "      <td>23.940423</td>\n",
       "    </tr>\n",
       "    <tr>\n",
       "      <th>1423</th>\n",
       "      <td>23:43:00</td>\n",
       "      <td>22.128287</td>\n",
       "    </tr>\n",
       "    <tr>\n",
       "      <th>1424</th>\n",
       "      <td>23:44:00</td>\n",
       "      <td>17.884525</td>\n",
       "    </tr>\n",
       "    <tr>\n",
       "      <th>1425</th>\n",
       "      <td>23:45:00</td>\n",
       "      <td>10.887122</td>\n",
       "    </tr>\n",
       "    <tr>\n",
       "      <th>1426</th>\n",
       "      <td>23:46:00</td>\n",
       "      <td>17.903403</td>\n",
       "    </tr>\n",
       "    <tr>\n",
       "      <th>1427</th>\n",
       "      <td>23:47:00</td>\n",
       "      <td>19.133076</td>\n",
       "    </tr>\n",
       "    <tr>\n",
       "      <th>1428</th>\n",
       "      <td>23:48:00</td>\n",
       "      <td>29.848106</td>\n",
       "    </tr>\n",
       "    <tr>\n",
       "      <th>1429</th>\n",
       "      <td>23:49:00</td>\n",
       "      <td>13.419460</td>\n",
       "    </tr>\n",
       "    <tr>\n",
       "      <th>1430</th>\n",
       "      <td>23:50:00</td>\n",
       "      <td>11.287807</td>\n",
       "    </tr>\n",
       "    <tr>\n",
       "      <th>1431</th>\n",
       "      <td>23:51:00</td>\n",
       "      <td>15.457519</td>\n",
       "    </tr>\n",
       "    <tr>\n",
       "      <th>1432</th>\n",
       "      <td>23:52:00</td>\n",
       "      <td>23.115879</td>\n",
       "    </tr>\n",
       "    <tr>\n",
       "      <th>1433</th>\n",
       "      <td>23:53:00</td>\n",
       "      <td>22.557232</td>\n",
       "    </tr>\n",
       "    <tr>\n",
       "      <th>1434</th>\n",
       "      <td>23:54:00</td>\n",
       "      <td>15.333913</td>\n",
       "    </tr>\n",
       "    <tr>\n",
       "      <th>1435</th>\n",
       "      <td>23:55:00</td>\n",
       "      <td>11.784221</td>\n",
       "    </tr>\n",
       "    <tr>\n",
       "      <th>1436</th>\n",
       "      <td>23:56:00</td>\n",
       "      <td>18.927367</td>\n",
       "    </tr>\n",
       "    <tr>\n",
       "      <th>1437</th>\n",
       "      <td>23:57:00</td>\n",
       "      <td>28.201312</td>\n",
       "    </tr>\n",
       "    <tr>\n",
       "      <th>1438</th>\n",
       "      <td>23:58:00</td>\n",
       "      <td>15.388788</td>\n",
       "    </tr>\n",
       "    <tr>\n",
       "      <th>1439</th>\n",
       "      <td>23:59:00</td>\n",
       "      <td>18.931429</td>\n",
       "    </tr>\n",
       "  </tbody>\n",
       "</table>\n",
       "<p>1440 rows × 2 columns</p>\n",
       "</div>"
      ],
      "text/plain": [
       "          TIME  IRRADIANCE\n",
       "0     00:00:00   13.134230\n",
       "1     00:01:00   15.638665\n",
       "2     00:02:00   28.817829\n",
       "3     00:03:00   12.005140\n",
       "4     00:04:00   21.816436\n",
       "5     00:05:00   19.551621\n",
       "6     00:06:00   13.848006\n",
       "7     00:07:00   21.530526\n",
       "8     00:08:00   10.180501\n",
       "9     00:09:00   20.976130\n",
       "10    00:10:00   19.680225\n",
       "11    00:11:00   15.083427\n",
       "12    00:12:00   19.744993\n",
       "13    00:13:00   10.338079\n",
       "14    00:14:00   17.733902\n",
       "15    00:15:00   17.698786\n",
       "16    00:16:00   17.520994\n",
       "17    00:17:00   19.154406\n",
       "18    00:18:00   13.191387\n",
       "19    00:19:00   11.306306\n",
       "20    00:20:00   17.396792\n",
       "21    00:21:00   19.960554\n",
       "22    00:22:00   18.213425\n",
       "23    00:23:00   13.267455\n",
       "24    00:24:00    9.564027\n",
       "25    00:25:00   16.166350\n",
       "26    00:26:00   19.273408\n",
       "27    00:27:00   14.440011\n",
       "28    00:28:00   13.823047\n",
       "29    00:29:00   11.919708\n",
       "...        ...         ...\n",
       "1410  23:30:00   16.390142\n",
       "1411  23:31:00   18.741641\n",
       "1412  23:32:00   17.677813\n",
       "1413  23:33:00   18.715644\n",
       "1414  23:34:00   13.586723\n",
       "1415  23:35:00   16.302053\n",
       "1416  23:36:00   15.886820\n",
       "1417  23:37:00   19.598547\n",
       "1418  23:38:00   22.131638\n",
       "1419  23:39:00   19.547223\n",
       "1420  23:40:00    9.515728\n",
       "1421  23:41:00   19.368385\n",
       "1422  23:42:00   23.940423\n",
       "1423  23:43:00   22.128287\n",
       "1424  23:44:00   17.884525\n",
       "1425  23:45:00   10.887122\n",
       "1426  23:46:00   17.903403\n",
       "1427  23:47:00   19.133076\n",
       "1428  23:48:00   29.848106\n",
       "1429  23:49:00   13.419460\n",
       "1430  23:50:00   11.287807\n",
       "1431  23:51:00   15.457519\n",
       "1432  23:52:00   23.115879\n",
       "1433  23:53:00   22.557232\n",
       "1434  23:54:00   15.333913\n",
       "1435  23:55:00   11.784221\n",
       "1436  23:56:00   18.927367\n",
       "1437  23:57:00   28.201312\n",
       "1438  23:58:00   15.388788\n",
       "1439  23:59:00   18.931429\n",
       "\n",
       "[1440 rows x 2 columns]"
      ]
     },
     "execution_count": 8,
     "metadata": {},
     "output_type": "execute_result"
    }
   ],
   "source": [
    "dataR.sort_values(by='TIME')"
   ]
  },
  {
   "cell_type": "code",
   "execution_count": 9,
   "metadata": {},
   "outputs": [],
   "source": [
    "import sklearn\n",
    "from sklearn.model_selection import train_test_split\n",
    "\n",
    "# dataR = reduce(lambda  left,right: pd.merge(left,right,on=['IRRADIANCE','TIME'],how='outer'), nodes)\n",
    "# dataR.TIME = pd.to_datetime(dataR.TIME)\n",
    "Train_Set_R = dataR"
   ]
  },
  {
   "cell_type": "code",
   "execution_count": 10,
   "metadata": {},
   "outputs": [],
   "source": [
    "# Training set only consists of irradiance values ordered by timestamp\n",
    "trainset_order = Train_Set_R.sort_values(by='TIME')"
   ]
  },
  {
   "cell_type": "code",
   "execution_count": 11,
   "metadata": {},
   "outputs": [],
   "source": [
    "# Remove Time, retain Irradiance only\n",
    "train_R = trainset_order.iloc[:, 1:2].values"
   ]
  },
  {
   "cell_type": "code",
   "execution_count": 12,
   "metadata": {},
   "outputs": [
    {
     "data": {
      "text/plain": [
       "array([[13.13422966],\n",
       "       [15.63866486],\n",
       "       [28.81782875],\n",
       "       ...,\n",
       "       [28.20131206],\n",
       "       [15.3887876 ],\n",
       "       [18.93142943]])"
      ]
     },
     "execution_count": 12,
     "metadata": {},
     "output_type": "execute_result"
    }
   ],
   "source": [
    "train_R"
   ]
  },
  {
   "cell_type": "code",
   "execution_count": 13,
   "metadata": {},
   "outputs": [],
   "source": [
    "# Data Normalization\n",
    "from sklearn.preprocessing import MinMaxScaler\n",
    "scaler = MinMaxScaler(feature_range = (0, 1))"
   ]
  },
  {
   "cell_type": "code",
   "execution_count": 14,
   "metadata": {},
   "outputs": [],
   "source": [
    "# Scale the training set\n",
    "train_scaled = scaler.fit_transform(train_R)"
   ]
  },
  {
   "cell_type": "code",
   "execution_count": 15,
   "metadata": {},
   "outputs": [],
   "source": [
    "# Feature variable: Irradiance values over the previous 60 minutes\n",
    "# Label (to be predicted): Irradiance of the next minute (61st min)\n",
    "\n",
    "features_set = []\n",
    "labels = []\n",
    "numRec = len(train_scaled)\n",
    "\n",
    "for i in range(60, numRec):\n",
    "    features_set.append(train_scaled[i-60:i,0])\n",
    "    labels.append(train_scaled[i,0])"
   ]
  },
  {
   "cell_type": "code",
   "execution_count": 17,
   "metadata": {},
   "outputs": [],
   "source": [
    "# Re-shaping the training set to numpy array before feeding the model\n",
    "\n",
    "features_set, labels = np.array(features_set), np.array(labels)\n",
    "\n",
    "features_set = np.reshape(features_set,(features_set.shape[0],features_set.shape[1],1))"
   ]
  },
  {
   "cell_type": "code",
   "execution_count": 18,
   "metadata": {},
   "outputs": [
    {
     "data": {
      "text/plain": [
       "(1380, 60, 1)"
      ]
     },
     "execution_count": 18,
     "metadata": {},
     "output_type": "execute_result"
    }
   ],
   "source": [
    "features_set.shape"
   ]
  },
  {
   "cell_type": "code",
   "execution_count": 19,
   "metadata": {},
   "outputs": [],
   "source": [
    "from keras.layers import Dense\n",
    "from keras.layers import LSTM\n",
    "\n",
    "modelM = Sequential()\n",
    "modelM.add(LSTM(units=50, return_sequences=True, input_shape=(features_set.shape[1], 1)))\n",
    "modelM.add(LSTM(units=50, return_sequences=True))\n",
    "modelM.add(Dropout(0.2))\n",
    "\n",
    "modelM.add(LSTM(units=50, return_sequences=True))\n",
    "modelM.add(Dropout(0.2))\n",
    "\n",
    "modelM.add(LSTM(units=50))\n",
    "modelM.add(Dropout(0.2))"
   ]
  },
  {
   "cell_type": "code",
   "execution_count": 20,
   "metadata": {},
   "outputs": [],
   "source": [
    "modelM.add(Dense(units = 1))\n",
    "modelM.compile(optimizer = 'adam', loss = 'mean_squared_error')"
   ]
  },
  {
   "cell_type": "code",
   "execution_count": 21,
   "metadata": {},
   "outputs": [
    {
     "name": "stdout",
     "output_type": "stream",
     "text": [
      "Epoch 1/5\n",
      "1380/1380 [==============================] - 5s 3ms/step - loss: 0.0870\n",
      "Epoch 2/5\n",
      "1380/1380 [==============================] - 5s 3ms/step - loss: 0.0181\n",
      "Epoch 3/5\n",
      "1380/1380 [==============================] - 5s 4ms/step - loss: 0.0119\n",
      "Epoch 4/5\n",
      "1380/1380 [==============================] - 6s 5ms/step - loss: 0.0097\n",
      "Epoch 5/5\n",
      "1380/1380 [==============================] - 5s 4ms/step - loss: 0.0081\n"
     ]
    }
   ],
   "source": [
    "historyM = modelM.fit(features_set, labels, epochs = 5, batch_size = 128)"
   ]
  },
  {
   "cell_type": "code",
   "execution_count": 67,
   "metadata": {
    "scrolled": false
   },
   "outputs": [
    {
     "data": {
      "image/png": "[encoded data removed]",
      "text/plain": [
       "<Figure size 720x432 with 1 Axes>"
      ]
     },
     "metadata": {
      "needs_background": "light"
     },
     "output_type": "display_data"
    }
   ],
   "source": [
    "import datetime\n",
    "import matplotlib.pyplot as plt\n",
    "import matplotlib.dates as mdates\n",
    "import matplotlib.cbook as cbook\n",
    "\n",
    "x = pd.to_datetime(dataR.TIME)\n",
    "\n",
    "fig, ax = plt.subplots(figsize=(10, 6))\n",
    "ax.plot(x, dataR.IRRADIANCE, color='purple', label='Actual Irradiance: Nodes 150,151,152')\n",
    "ax.set(xlabel=\"Hour\", ylabel=\"irradiance\",\n",
    "       title=\"Actual Irradiance\")\n",
    "\n",
    "# Format the x axis\n",
    "ax.xaxis.set_major_locator(mdates.HourLocator(interval=1))\n",
    "ax.xaxis.set_major_formatter(mdates.DateFormatter(\"%H:%M:%S\"))\n",
    "ax.legend()\n",
    "plt.title('Training set: Irradiance recorded every minute')\n",
    "\n",
    "fig.autofmt_xdate()\n",
    "plt.show()"
   ]
  },
  {
   "cell_type": "markdown",
   "metadata": {},
   "source": [
    "### Prediction with data from Node 154"
   ]
  },
  {
   "cell_type": "code",
   "execution_count": 51,
   "metadata": {},
   "outputs": [
    {
     "name": "stdout",
     "output_type": "stream",
     "text": [
      "Loaded file MDA300n154.dat\n"
     ]
    }
   ],
   "source": [
    "test_input = []\n",
    "test_input.append(pd.read_csv('https://raw.githubusercontent.com/Amitangshu/Irradiance_sensing/master/All_Data_For_EPIC_Roof/MDA300n154.dat',\n",
    "                     error_bad_lines=False, header=1))\n",
    "print(\"Loaded file MDA300n154.dat\")"
   ]
  },
  {
   "cell_type": "code",
   "execution_count": 52,
   "metadata": {},
   "outputs": [],
   "source": [
    "test_input[0][['DATE','TIME']] = test_input[0].TMSTAMP.str.split(expand=True)\n",
    "test_input[0].TIME = test_input[0].TIME.str[0:5] + ':00'"
   ]
  },
  {
   "cell_type": "code",
   "execution_count": 53,
   "metadata": {},
   "outputs": [
    {
     "data": {
      "text/plain": [
       "67808"
      ]
     },
     "execution_count": 53,
     "metadata": {},
     "output_type": "execute_result"
    }
   ],
   "source": [
    "test_input = test_input[0]\n",
    "len(test_input)"
   ]
  },
  {
   "cell_type": "code",
   "execution_count": 54,
   "metadata": {},
   "outputs": [],
   "source": [
    "test_input = test_input.drop('TMSTAMP', 1)\n",
    "test_input = test_input.drop('RECNBR', 1)\n",
    "test_input = test_input.drop('PARENT', 1)\n",
    "test_input = test_input.drop('SOLAROCV', 1)\n",
    "test_input = test_input.drop('VBATT', 1)\n",
    "test_input = test_input.drop('TEMP', 1)\n",
    "test_input = test_input.drop('DATE', 1)"
   ]
  },
  {
   "cell_type": "code",
   "execution_count": 55,
   "metadata": {},
   "outputs": [],
   "source": [
    "# Drop duplicates\n",
    "# test_input.drop_duplicates(subset='TIME',keep='first',inplace=True)\n",
    "# Re-order\n",
    "test_input = test_input.groupby('TIME').mean().reset_index()\n",
    "test_input = test_input.sort_values(by='TIME')"
   ]
  },
  {
   "cell_type": "code",
   "execution_count": 56,
   "metadata": {},
   "outputs": [],
   "source": [
    "# Testing set contains recorded irradiance values \n",
    "\n",
    "testset = test_input.iloc[:, 1:2].values"
   ]
  },
  {
   "cell_type": "code",
   "execution_count": 57,
   "metadata": {},
   "outputs": [
    {
     "data": {
      "text/plain": [
       "array([[3.17],\n",
       "       [3.17],\n",
       "       [3.17],\n",
       "       ...,\n",
       "       [3.17],\n",
       "       [3.17],\n",
       "       [3.17]])"
      ]
     },
     "execution_count": 57,
     "metadata": {},
     "output_type": "execute_result"
    }
   ],
   "source": [
    "testset"
   ]
  },
  {
   "cell_type": "code",
   "execution_count": 60,
   "metadata": {},
   "outputs": [],
   "source": [
    "# Transform testing set\n",
    "testset = testset.reshape(-1,1)\n",
    "testset = scaler.transform(testset)"
   ]
  },
  {
   "cell_type": "code",
   "execution_count": 61,
   "metadata": {},
   "outputs": [],
   "source": [
    "# Feed the model with irradiance values recorded every minute\n",
    "\n",
    "test_features = []\n",
    "num = len(testset)\n",
    "\n",
    "for i in range(60, num):\n",
    "    test_features.append(testset[i-60:i, 0])"
   ]
  },
  {
   "cell_type": "code",
   "execution_count": 62,
   "metadata": {},
   "outputs": [],
   "source": [
    "test_features = np.array(test_features)\n",
    "test_features = np.reshape(test_features, (test_features.shape[0], test_features.shape[1], 1))"
   ]
  },
  {
   "cell_type": "code",
   "execution_count": 63,
   "metadata": {},
   "outputs": [],
   "source": [
    "predictions = modelM.predict(test_features)"
   ]
  },
  {
   "cell_type": "code",
   "execution_count": 64,
   "metadata": {},
   "outputs": [],
   "source": [
    "# Inverse transform the prediction because inputs are scaled\n",
    "\n",
    "predictions = scaler.inverse_transform(predictions)"
   ]
  },
  {
   "cell_type": "code",
   "execution_count": 65,
   "metadata": {},
   "outputs": [
    {
     "data": {
      "text/plain": [
       "array([[1.4719185],\n",
       "       [1.4719185],\n",
       "       [1.4719185],\n",
       "       ...,\n",
       "       [1.4719185],\n",
       "       [1.4719185],\n",
       "       [1.4719185]], dtype=float32)"
      ]
     },
     "execution_count": 65,
     "metadata": {},
     "output_type": "execute_result"
    }
   ],
   "source": [
    "predictions"
   ]
  },
  {
   "cell_type": "code",
   "execution_count": 89,
   "metadata": {
    "scrolled": true
   },
   "outputs": [
    {
     "data": {
      "text/plain": [
       "(1380, 1)"
      ]
     },
     "execution_count": 89,
     "metadata": {},
     "output_type": "execute_result"
    }
   ],
   "source": [
    "predictions.shape"
   ]
  },
  {
   "cell_type": "code",
   "execution_count": 103,
   "metadata": {},
   "outputs": [
    {
     "data": {
      "text/plain": [
       "60    01:00:00\n",
       "61    01:01:00\n",
       "Name: TIME, dtype: object"
      ]
     },
     "execution_count": 103,
     "metadata": {},
     "output_type": "execute_result"
    }
   ],
   "source": [
    "test_input.TIME[60:62]"
   ]
  },
  {
   "cell_type": "code",
   "execution_count": 105,
   "metadata": {},
   "outputs": [
    {
     "data": {
      "text/plain": [
       "(1380,)"
      ]
     },
     "execution_count": 105,
     "metadata": {},
     "output_type": "execute_result"
    }
   ],
   "source": [
    "x2 = test_input.TIME[60:1441]\n",
    "x2.shape"
   ]
  },
  {
   "cell_type": "code",
   "execution_count": 114,
   "metadata": {},
   "outputs": [
    {
     "data": {
      "image/png": "[encoded data removed]",
      "text/plain": [
       "<Figure size 864x576 with 1 Axes>"
      ]
     },
     "metadata": {
      "needs_background": "light"
     },
     "output_type": "display_data"
    }
   ],
   "source": [
    "x = pd.to_datetime(test_input.TIME)\n",
    "x2 = pd.to_datetime(x2)\n",
    "\n",
    "fig, ax = plt.subplots(figsize=(12, 8))\n",
    "ax.plot(x, test_input.IRRADIANCE, color='red', label='Actual Irradiance: Node 154')\n",
    "ax.plot(x2, predictions, color='blue', label='Predicted Irradiance')\n",
    "ax.set(xlabel=\"Hour\", ylabel=\"Irradiance\")\n",
    "\n",
    "# Format the x axis\n",
    "ax.xaxis.set_major_locator(mdates.HourLocator(interval=1))\n",
    "ax.xaxis.set_major_formatter(mdates.DateFormatter(\"%H:%M:%S\"))\n",
    "ax.legend()\n",
    "plt.title('Prediction vs Actual Irradiance: Node 154')\n",
    "\n",
    "fig.autofmt_xdate()\n",
    "plt.show()"
   ]
  },
  {
   "cell_type": "code",
   "execution_count": null,
   "metadata": {},
   "outputs": [],
   "source": []
  }
 ],
 "metadata": {
  "kernelspec": {
   "display_name": "Python 3",
   "language": "python",
   "name": "python3"
  },
  "language_info": {
   "codemirror_mode": {
    "name": "ipython",
    "version": 3
   },
   "file_extension": ".py",
   "mimetype": "text/x-python",
   "name": "python",
   "nbconvert_exporter": "python",
   "pygments_lexer": "ipython3",
   "version": "3.7.3"
  }
 },
 "nbformat": 4,
 "nbformat_minor": 2
}
